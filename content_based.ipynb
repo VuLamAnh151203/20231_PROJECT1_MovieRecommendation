{
  "cells": [
    {
      "cell_type": "markdown",
      "id": "23025bc1",
      "metadata": {
        "id": "23025bc1",
        "papermill": {
          "duration": 0.010908,
          "end_time": "2024-01-10T20:50:57.744561",
          "exception": false,
          "start_time": "2024-01-10T20:50:57.733653",
          "status": "completed"
        },
        "tags": []
      },
      "source": [
        "#1. Import library\n",
        "\n"
      ]
    },
    {
      "cell_type": "code",
      "execution_count": null,
      "id": "f958da1f",
      "metadata": {
        "execution": {
          "iopub.execute_input": "2024-01-10T20:50:57.767078Z",
          "iopub.status.busy": "2024-01-10T20:50:57.766716Z",
          "iopub.status.idle": "2024-01-10T20:51:10.951868Z",
          "shell.execute_reply": "2024-01-10T20:51:10.951047Z"
        },
        "id": "f958da1f",
        "papermill": {
          "duration": 13.198898,
          "end_time": "2024-01-10T20:51:10.954089",
          "exception": false,
          "start_time": "2024-01-10T20:50:57.755191",
          "status": "completed"
        },
        "tags": [],
        "outputId": "8a82faab-7370-4d2f-b5ab-5302145fcdd8"
      },
      "outputs": [
        {
          "name": "stderr",
          "output_type": "stream",
          "text": [
            "/opt/conda/lib/python3.10/site-packages/scipy/__init__.py:146: UserWarning: A NumPy version >=1.16.5 and <1.23.0 is required for this version of SciPy (detected version 1.24.3\n",
            "  warnings.warn(f\"A NumPy version >={np_minversion} and <{np_maxversion}\"\n"
          ]
        }
      ],
      "source": [
        "import pandas as pd\n",
        "import numpy as np\n",
        "from sklearn.feature_extraction.text import TfidfVectorizer\n",
        "import tensorflow as tf\n",
        "from sklearn import cluster\n",
        "from sklearn.metrics.pairwise import cosine_similarity\n",
        "from sklearn.preprocessing import normalize\n",
        "from tqdm import tqdm"
      ]
    },
    {
      "cell_type": "markdown",
      "id": "0efec07d",
      "metadata": {
        "id": "0efec07d",
        "papermill": {
          "duration": 0.010333,
          "end_time": "2024-01-10T20:51:10.975244",
          "exception": false,
          "start_time": "2024-01-10T20:51:10.964911",
          "status": "completed"
        },
        "tags": []
      },
      "source": [
        "#2. Import data"
      ]
    },
    {
      "cell_type": "code",
      "execution_count": null,
      "id": "c932bc71",
      "metadata": {
        "execution": {
          "iopub.execute_input": "2024-01-10T20:51:11.000004Z",
          "iopub.status.busy": "2024-01-10T20:51:10.999243Z",
          "iopub.status.idle": "2024-01-10T20:51:12.136547Z",
          "shell.execute_reply": "2024-01-10T20:51:12.135622Z"
        },
        "id": "c932bc71",
        "outputId": "a05860b1-91ee-4a37-d15d-563c713e199e",
        "papermill": {
          "duration": 1.153106,
          "end_time": "2024-01-10T20:51:12.138822",
          "exception": false,
          "start_time": "2024-01-10T20:51:10.985716",
          "status": "completed"
        },
        "tags": []
      },
      "outputs": [
        {
          "name": "stderr",
          "output_type": "stream",
          "text": [
            "/tmp/ipykernel_25/4214782242.py:1: DtypeWarning: Columns (10) have mixed types. Specify dtype option on import or set low_memory=False.\n",
            "  metadata_movie = pd.read_csv(\"/kaggle/input/the-movies-dataset/movies_metadata.csv\")\n"
          ]
        }
      ],
      "source": [
        "metadata_movie = pd.read_csv(\"/kaggle/input/the-movies-dataset/movies_metadata.csv\")"
      ]
    },
    {
      "cell_type": "markdown",
      "id": "018043c5",
      "metadata": {
        "id": "018043c5",
        "papermill": {
          "duration": 0.011095,
          "end_time": "2024-01-10T20:51:12.160917",
          "exception": false,
          "start_time": "2024-01-10T20:51:12.149822",
          "status": "completed"
        },
        "tags": []
      },
      "source": [
        "#3.Data proprocessing"
      ]
    },
    {
      "cell_type": "code",
      "execution_count": null,
      "id": "108e5879",
      "metadata": {
        "execution": {
          "iopub.execute_input": "2024-01-10T20:51:12.183504Z",
          "iopub.status.busy": "2024-01-10T20:51:12.183190Z",
          "iopub.status.idle": "2024-01-10T20:51:12.199853Z",
          "shell.execute_reply": "2024-01-10T20:51:12.199000Z"
        },
        "id": "108e5879",
        "papermill": {
          "duration": 0.030111,
          "end_time": "2024-01-10T20:51:12.201750",
          "exception": false,
          "start_time": "2024-01-10T20:51:12.171639",
          "status": "completed"
        },
        "tags": []
      },
      "outputs": [],
      "source": [
        "data_movie = metadata_movie[[\"id\",\"title\",\"genres\",\"overview\"]]"
      ]
    },
    {
      "cell_type": "code",
      "execution_count": null,
      "id": "06e948db",
      "metadata": {
        "execution": {
          "iopub.execute_input": "2024-01-10T20:51:12.224343Z",
          "iopub.status.busy": "2024-01-10T20:51:12.224056Z",
          "iopub.status.idle": "2024-01-10T20:51:12.228473Z",
          "shell.execute_reply": "2024-01-10T20:51:12.227587Z"
        },
        "id": "06e948db",
        "papermill": {
          "duration": 0.018051,
          "end_time": "2024-01-10T20:51:12.230460",
          "exception": false,
          "start_time": "2024-01-10T20:51:12.212409",
          "status": "completed"
        },
        "tags": []
      },
      "outputs": [],
      "source": [
        "def compute_len_string(x):\n",
        "  if isinstance(x,str):\n",
        "    return len(x)\n",
        "  else:\n",
        "    return 0"
      ]
    },
    {
      "cell_type": "code",
      "execution_count": null,
      "id": "e4835470",
      "metadata": {
        "execution": {
          "iopub.execute_input": "2024-01-10T20:51:12.253168Z",
          "iopub.status.busy": "2024-01-10T20:51:12.252891Z",
          "iopub.status.idle": "2024-01-10T20:51:12.414720Z",
          "shell.execute_reply": "2024-01-10T20:51:12.413638Z"
        },
        "id": "e4835470",
        "outputId": "2da94620-1159-4996-fe02-4341d9b4f2e2",
        "papermill": {
          "duration": 0.175735,
          "end_time": "2024-01-10T20:51:12.416911",
          "exception": false,
          "start_time": "2024-01-10T20:51:12.241176",
          "status": "completed"
        },
        "tags": []
      },
      "outputs": [
        {
          "name": "stderr",
          "output_type": "stream",
          "text": [
            "/tmp/ipykernel_25/3699323544.py:1: SettingWithCopyWarning: \n",
            "A value is trying to be set on a copy of a slice from a DataFrame.\n",
            "Try using .loc[row_indexer,col_indexer] = value instead\n",
            "\n",
            "See the caveats in the documentation: https://pandas.pydata.org/pandas-docs/stable/user_guide/indexing.html#returning-a-view-versus-a-copy\n",
            "  data_movie[\"len_overview\"] = data_movie[\"overview\"].apply(compute_len_string)\n",
            "/tmp/ipykernel_25/3699323544.py:3: SettingWithCopyWarning: \n",
            "A value is trying to be set on a copy of a slice from a DataFrame.\n",
            "Try using .loc[row_indexer,col_indexer] = value instead\n",
            "\n",
            "See the caveats in the documentation: https://pandas.pydata.org/pandas-docs/stable/user_guide/indexing.html#returning-a-view-versus-a-copy\n",
            "  data_movie[data_movie[\"len_overview\"] < 20] = None\n",
            "/tmp/ipykernel_25/3699323544.py:4: SettingWithCopyWarning: \n",
            "A value is trying to be set on a copy of a slice from a DataFrame.\n",
            "Try using .loc[row_indexer,col_indexer] = value instead\n",
            "\n",
            "See the caveats in the documentation: https://pandas.pydata.org/pandas-docs/stable/user_guide/indexing.html#returning-a-view-versus-a-copy\n",
            "  data_movie[data_movie[\"genres\"] == \"[]\"] = None\n",
            "/tmp/ipykernel_25/3699323544.py:5: SettingWithCopyWarning: \n",
            "A value is trying to be set on a copy of a slice from a DataFrame\n",
            "\n",
            "See the caveats in the documentation: https://pandas.pydata.org/pandas-docs/stable/user_guide/indexing.html#returning-a-view-versus-a-copy\n",
            "  data_movie.dropna(inplace = True)\n",
            "/tmp/ipykernel_25/3699323544.py:6: SettingWithCopyWarning: \n",
            "A value is trying to be set on a copy of a slice from a DataFrame\n",
            "\n",
            "See the caveats in the documentation: https://pandas.pydata.org/pandas-docs/stable/user_guide/indexing.html#returning-a-view-versus-a-copy\n",
            "  data_movie.drop(columns = [\"len_overview\"],inplace = True)\n",
            "/tmp/ipykernel_25/3699323544.py:9: SettingWithCopyWarning: \n",
            "A value is trying to be set on a copy of a slice from a DataFrame\n",
            "\n",
            "See the caveats in the documentation: https://pandas.pydata.org/pandas-docs/stable/user_guide/indexing.html#returning-a-view-versus-a-copy\n",
            "  data_movie.drop_duplicates(inplace = True)\n",
            "/tmp/ipykernel_25/3699323544.py:11: SettingWithCopyWarning: \n",
            "A value is trying to be set on a copy of a slice from a DataFrame.\n",
            "Try using .loc[row_indexer,col_indexer] = value instead\n",
            "\n",
            "See the caveats in the documentation: https://pandas.pydata.org/pandas-docs/stable/user_guide/indexing.html#returning-a-view-versus-a-copy\n",
            "  data_movie[\"id\"] = data_movie[\"id\"].astype(np.int64)\n"
          ]
        },
        {
          "data": {
            "text/html": [
              "<div>\n",
              "<style scoped>\n",
              "    .dataframe tbody tr th:only-of-type {\n",
              "        vertical-align: middle;\n",
              "    }\n",
              "\n",
              "    .dataframe tbody tr th {\n",
              "        vertical-align: top;\n",
              "    }\n",
              "\n",
              "    .dataframe thead th {\n",
              "        text-align: right;\n",
              "    }\n",
              "</style>\n",
              "<table border=\"1\" class=\"dataframe\">\n",
              "  <thead>\n",
              "    <tr style=\"text-align: right;\">\n",
              "      <th></th>\n",
              "      <th>id</th>\n",
              "      <th>title</th>\n",
              "      <th>genres</th>\n",
              "      <th>overview</th>\n",
              "    </tr>\n",
              "  </thead>\n",
              "  <tbody>\n",
              "    <tr>\n",
              "      <th>0</th>\n",
              "      <td>862</td>\n",
              "      <td>Toy Story</td>\n",
              "      <td>[{'id': 16, 'name': 'Animation'}, {'id': 35, '...</td>\n",
              "      <td>Led by Woody, Andy's toys live happily in his ...</td>\n",
              "    </tr>\n",
              "    <tr>\n",
              "      <th>1</th>\n",
              "      <td>8844</td>\n",
              "      <td>Jumanji</td>\n",
              "      <td>[{'id': 12, 'name': 'Adventure'}, {'id': 14, '...</td>\n",
              "      <td>When siblings Judy and Peter discover an encha...</td>\n",
              "    </tr>\n",
              "    <tr>\n",
              "      <th>2</th>\n",
              "      <td>15602</td>\n",
              "      <td>Grumpier Old Men</td>\n",
              "      <td>[{'id': 10749, 'name': 'Romance'}, {'id': 35, ...</td>\n",
              "      <td>A family wedding reignites the ancient feud be...</td>\n",
              "    </tr>\n",
              "    <tr>\n",
              "      <th>3</th>\n",
              "      <td>31357</td>\n",
              "      <td>Waiting to Exhale</td>\n",
              "      <td>[{'id': 35, 'name': 'Comedy'}, {'id': 18, 'nam...</td>\n",
              "      <td>Cheated on, mistreated and stepped on, the wom...</td>\n",
              "    </tr>\n",
              "    <tr>\n",
              "      <th>4</th>\n",
              "      <td>11862</td>\n",
              "      <td>Father of the Bride Part II</td>\n",
              "      <td>[{'id': 35, 'name': 'Comedy'}]</td>\n",
              "      <td>Just when George Banks has recovered from his ...</td>\n",
              "    </tr>\n",
              "    <tr>\n",
              "      <th>...</th>\n",
              "      <td>...</td>\n",
              "      <td>...</td>\n",
              "      <td>...</td>\n",
              "      <td>...</td>\n",
              "    </tr>\n",
              "    <tr>\n",
              "      <th>45459</th>\n",
              "      <td>222848</td>\n",
              "      <td>Caged Heat 3000</td>\n",
              "      <td>[{'id': 878, 'name': 'Science Fiction'}]</td>\n",
              "      <td>It's the year 3000 AD. The world's most danger...</td>\n",
              "    </tr>\n",
              "    <tr>\n",
              "      <th>45460</th>\n",
              "      <td>30840</td>\n",
              "      <td>Robin Hood</td>\n",
              "      <td>[{'id': 18, 'name': 'Drama'}, {'id': 28, 'name...</td>\n",
              "      <td>Yet another version of the classic epic, with ...</td>\n",
              "    </tr>\n",
              "    <tr>\n",
              "      <th>45461</th>\n",
              "      <td>439050</td>\n",
              "      <td>Subdue</td>\n",
              "      <td>[{'id': 18, 'name': 'Drama'}, {'id': 10751, 'n...</td>\n",
              "      <td>Rising and falling between a man and woman.</td>\n",
              "    </tr>\n",
              "    <tr>\n",
              "      <th>45462</th>\n",
              "      <td>111109</td>\n",
              "      <td>Century of Birthing</td>\n",
              "      <td>[{'id': 18, 'name': 'Drama'}]</td>\n",
              "      <td>An artist struggles to finish his work while a...</td>\n",
              "    </tr>\n",
              "    <tr>\n",
              "      <th>45463</th>\n",
              "      <td>67758</td>\n",
              "      <td>Betrayal</td>\n",
              "      <td>[{'id': 28, 'name': 'Action'}, {'id': 18, 'nam...</td>\n",
              "      <td>When one of her hits goes wrong, a professiona...</td>\n",
              "    </tr>\n",
              "  </tbody>\n",
              "</table>\n",
              "<p>42143 rows × 4 columns</p>\n",
              "</div>"
            ],
            "text/plain": [
              "           id                        title  \\\n",
              "0         862                    Toy Story   \n",
              "1        8844                      Jumanji   \n",
              "2       15602             Grumpier Old Men   \n",
              "3       31357            Waiting to Exhale   \n",
              "4       11862  Father of the Bride Part II   \n",
              "...       ...                          ...   \n",
              "45459  222848              Caged Heat 3000   \n",
              "45460   30840                   Robin Hood   \n",
              "45461  439050                       Subdue   \n",
              "45462  111109          Century of Birthing   \n",
              "45463   67758                     Betrayal   \n",
              "\n",
              "                                                  genres  \\\n",
              "0      [{'id': 16, 'name': 'Animation'}, {'id': 35, '...   \n",
              "1      [{'id': 12, 'name': 'Adventure'}, {'id': 14, '...   \n",
              "2      [{'id': 10749, 'name': 'Romance'}, {'id': 35, ...   \n",
              "3      [{'id': 35, 'name': 'Comedy'}, {'id': 18, 'nam...   \n",
              "4                         [{'id': 35, 'name': 'Comedy'}]   \n",
              "...                                                  ...   \n",
              "45459           [{'id': 878, 'name': 'Science Fiction'}]   \n",
              "45460  [{'id': 18, 'name': 'Drama'}, {'id': 28, 'name...   \n",
              "45461  [{'id': 18, 'name': 'Drama'}, {'id': 10751, 'n...   \n",
              "45462                      [{'id': 18, 'name': 'Drama'}]   \n",
              "45463  [{'id': 28, 'name': 'Action'}, {'id': 18, 'nam...   \n",
              "\n",
              "                                                overview  \n",
              "0      Led by Woody, Andy's toys live happily in his ...  \n",
              "1      When siblings Judy and Peter discover an encha...  \n",
              "2      A family wedding reignites the ancient feud be...  \n",
              "3      Cheated on, mistreated and stepped on, the wom...  \n",
              "4      Just when George Banks has recovered from his ...  \n",
              "...                                                  ...  \n",
              "45459  It's the year 3000 AD. The world's most danger...  \n",
              "45460  Yet another version of the classic epic, with ...  \n",
              "45461        Rising and falling between a man and woman.  \n",
              "45462  An artist struggles to finish his work while a...  \n",
              "45463  When one of her hits goes wrong, a professiona...  \n",
              "\n",
              "[42143 rows x 4 columns]"
            ]
          },
          "execution_count": 5,
          "metadata": {},
          "output_type": "execute_result"
        }
      ],
      "source": [
        "data_movie[\"len_overview\"] = data_movie[\"overview\"].apply(compute_len_string)\n",
        "#After experiment. i find that to drop None value overview or unknown overview, i will drop overview with length of string < 20\n",
        "data_movie[data_movie[\"len_overview\"] < 20] = None\n",
        "data_movie[data_movie[\"genres\"] == \"[]\"] = None\n",
        "data_movie.dropna(inplace = True)\n",
        "data_movie.drop(columns = [\"len_overview\"],inplace = True)\n",
        "\n",
        "#drop duplicate\n",
        "data_movie.drop_duplicates(inplace = True)\n",
        "\n",
        "data_movie[\"id\"] = data_movie[\"id\"].astype(np.int64)\n",
        "data_movie"
      ]
    },
    {
      "cell_type": "markdown",
      "id": "30ba6677",
      "metadata": {
        "id": "30ba6677",
        "papermill": {
          "duration": 0.011336,
          "end_time": "2024-01-10T20:51:12.439921",
          "exception": false,
          "start_time": "2024-01-10T20:51:12.428585",
          "status": "completed"
        },
        "tags": []
      },
      "source": [
        "##3.1 Transform genres"
      ]
    },
    {
      "cell_type": "code",
      "execution_count": null,
      "id": "fe3ac1ac",
      "metadata": {
        "execution": {
          "iopub.execute_input": "2024-01-10T20:51:12.464344Z",
          "iopub.status.busy": "2024-01-10T20:51:12.463761Z",
          "iopub.status.idle": "2024-01-10T20:51:13.861056Z",
          "shell.execute_reply": "2024-01-10T20:51:13.859975Z"
        },
        "id": "fe3ac1ac",
        "outputId": "b0bff231-944d-4aa7-a36a-b06dd3470b79",
        "papermill": {
          "duration": 1.411573,
          "end_time": "2024-01-10T20:51:13.863127",
          "exception": false,
          "start_time": "2024-01-10T20:51:12.451554",
          "status": "completed"
        },
        "tags": []
      },
      "outputs": [
        {
          "name": "stderr",
          "output_type": "stream",
          "text": [
            "/tmp/ipykernel_25/793517020.py:14: SettingWithCopyWarning: \n",
            "A value is trying to be set on a copy of a slice from a DataFrame.\n",
            "Try using .loc[row_indexer,col_indexer] = value instead\n",
            "\n",
            "See the caveats in the documentation: https://pandas.pydata.org/pandas-docs/stable/user_guide/indexing.html#returning-a-view-versus-a-copy\n",
            "  data_movie[\"genres\"] = genre\n"
          ]
        }
      ],
      "source": [
        "import ast\n",
        "def transforms_genres(x):\n",
        "  x_list = ast.literal_eval(x)\n",
        "  if x_list == []:\n",
        "    return None\n",
        "\n",
        "  list_attr = []\n",
        "  for dic in x_list:\n",
        "    list_attr.append(dic[\"name\"].lower())\n",
        "  return list(set(list_attr))\n",
        "\n",
        "genre = data_movie[\"genres\"]\n",
        "genre = genre.apply(transforms_genres)\n",
        "data_movie[\"genres\"] = genre\n",
        "data_movie = data_movie.dropna()"
      ]
    },
    {
      "cell_type": "markdown",
      "id": "041bde4f",
      "metadata": {
        "id": "041bde4f",
        "papermill": {
          "duration": 0.011224,
          "end_time": "2024-01-10T20:51:13.886192",
          "exception": false,
          "start_time": "2024-01-10T20:51:13.874968",
          "status": "completed"
        },
        "tags": []
      },
      "source": [
        "##3.2 Lowercase overview and title"
      ]
    },
    {
      "cell_type": "code",
      "execution_count": null,
      "id": "06c95452",
      "metadata": {
        "execution": {
          "iopub.execute_input": "2024-01-10T20:51:13.910055Z",
          "iopub.status.busy": "2024-01-10T20:51:13.909730Z",
          "iopub.status.idle": "2024-01-10T20:51:13.980586Z",
          "shell.execute_reply": "2024-01-10T20:51:13.979579Z"
        },
        "id": "06c95452",
        "papermill": {
          "duration": 0.085109,
          "end_time": "2024-01-10T20:51:13.982673",
          "exception": false,
          "start_time": "2024-01-10T20:51:13.897564",
          "status": "completed"
        },
        "tags": []
      },
      "outputs": [],
      "source": [
        "#lower all the attribute:\n",
        "data_movie[\"title\"] = data_movie[\"title\"].str.lower()\n",
        "data_movie[\"overview\"] = data_movie[\"overview\"].str.lower()"
      ]
    },
    {
      "cell_type": "code",
      "execution_count": null,
      "id": "a670e135",
      "metadata": {
        "execution": {
          "iopub.execute_input": "2024-01-10T20:51:14.007018Z",
          "iopub.status.busy": "2024-01-10T20:51:14.006706Z",
          "iopub.status.idle": "2024-01-10T20:51:14.015853Z",
          "shell.execute_reply": "2024-01-10T20:51:14.015146Z"
        },
        "id": "a670e135",
        "papermill": {
          "duration": 0.023335,
          "end_time": "2024-01-10T20:51:14.017723",
          "exception": false,
          "start_time": "2024-01-10T20:51:13.994388",
          "status": "completed"
        },
        "tags": []
      },
      "outputs": [],
      "source": [
        "data_movie_tfidf = data_movie.copy(deep =True)\n",
        "data_movie_tfidf.index = range(0, len(data_movie_tfidf.index))"
      ]
    },
    {
      "cell_type": "code",
      "execution_count": null,
      "id": "d963eeef",
      "metadata": {
        "execution": {
          "iopub.execute_input": "2024-01-10T20:51:14.042021Z",
          "iopub.status.busy": "2024-01-10T20:51:14.041738Z",
          "iopub.status.idle": "2024-01-10T20:51:14.057578Z",
          "shell.execute_reply": "2024-01-10T20:51:14.056722Z"
        },
        "id": "d963eeef",
        "outputId": "4734b17a-d309-48e8-919b-a5f88d750a0a",
        "papermill": {
          "duration": 0.03012,
          "end_time": "2024-01-10T20:51:14.059453",
          "exception": false,
          "start_time": "2024-01-10T20:51:14.029333",
          "status": "completed"
        },
        "tags": []
      },
      "outputs": [
        {
          "data": {
            "text/html": [
              "<div>\n",
              "<style scoped>\n",
              "    .dataframe tbody tr th:only-of-type {\n",
              "        vertical-align: middle;\n",
              "    }\n",
              "\n",
              "    .dataframe tbody tr th {\n",
              "        vertical-align: top;\n",
              "    }\n",
              "\n",
              "    .dataframe thead th {\n",
              "        text-align: right;\n",
              "    }\n",
              "</style>\n",
              "<table border=\"1\" class=\"dataframe\">\n",
              "  <thead>\n",
              "    <tr style=\"text-align: right;\">\n",
              "      <th></th>\n",
              "      <th>id</th>\n",
              "      <th>title</th>\n",
              "      <th>genres</th>\n",
              "      <th>overview</th>\n",
              "    </tr>\n",
              "  </thead>\n",
              "  <tbody>\n",
              "    <tr>\n",
              "      <th>0</th>\n",
              "      <td>862</td>\n",
              "      <td>toy story</td>\n",
              "      <td>[family, comedy, animation]</td>\n",
              "      <td>led by woody, andy's toys live happily in his ...</td>\n",
              "    </tr>\n",
              "    <tr>\n",
              "      <th>1</th>\n",
              "      <td>8844</td>\n",
              "      <td>jumanji</td>\n",
              "      <td>[fantasy, adventure, family]</td>\n",
              "      <td>when siblings judy and peter discover an encha...</td>\n",
              "    </tr>\n",
              "    <tr>\n",
              "      <th>2</th>\n",
              "      <td>15602</td>\n",
              "      <td>grumpier old men</td>\n",
              "      <td>[romance, comedy]</td>\n",
              "      <td>a family wedding reignites the ancient feud be...</td>\n",
              "    </tr>\n",
              "    <tr>\n",
              "      <th>3</th>\n",
              "      <td>31357</td>\n",
              "      <td>waiting to exhale</td>\n",
              "      <td>[romance, drama, comedy]</td>\n",
              "      <td>cheated on, mistreated and stepped on, the wom...</td>\n",
              "    </tr>\n",
              "    <tr>\n",
              "      <th>4</th>\n",
              "      <td>11862</td>\n",
              "      <td>father of the bride part ii</td>\n",
              "      <td>[comedy]</td>\n",
              "      <td>just when george banks has recovered from his ...</td>\n",
              "    </tr>\n",
              "    <tr>\n",
              "      <th>...</th>\n",
              "      <td>...</td>\n",
              "      <td>...</td>\n",
              "      <td>...</td>\n",
              "      <td>...</td>\n",
              "    </tr>\n",
              "    <tr>\n",
              "      <th>45459</th>\n",
              "      <td>222848</td>\n",
              "      <td>caged heat 3000</td>\n",
              "      <td>[science fiction]</td>\n",
              "      <td>it's the year 3000 ad. the world's most danger...</td>\n",
              "    </tr>\n",
              "    <tr>\n",
              "      <th>45460</th>\n",
              "      <td>30840</td>\n",
              "      <td>robin hood</td>\n",
              "      <td>[romance, action, drama]</td>\n",
              "      <td>yet another version of the classic epic, with ...</td>\n",
              "    </tr>\n",
              "    <tr>\n",
              "      <th>45461</th>\n",
              "      <td>439050</td>\n",
              "      <td>subdue</td>\n",
              "      <td>[family, drama]</td>\n",
              "      <td>rising and falling between a man and woman.</td>\n",
              "    </tr>\n",
              "    <tr>\n",
              "      <th>45462</th>\n",
              "      <td>111109</td>\n",
              "      <td>century of birthing</td>\n",
              "      <td>[drama]</td>\n",
              "      <td>an artist struggles to finish his work while a...</td>\n",
              "    </tr>\n",
              "    <tr>\n",
              "      <th>45463</th>\n",
              "      <td>67758</td>\n",
              "      <td>betrayal</td>\n",
              "      <td>[drama, action, thriller]</td>\n",
              "      <td>when one of her hits goes wrong, a professiona...</td>\n",
              "    </tr>\n",
              "  </tbody>\n",
              "</table>\n",
              "<p>42143 rows × 4 columns</p>\n",
              "</div>"
            ],
            "text/plain": [
              "           id                        title                        genres  \\\n",
              "0         862                    toy story   [family, comedy, animation]   \n",
              "1        8844                      jumanji  [fantasy, adventure, family]   \n",
              "2       15602             grumpier old men             [romance, comedy]   \n",
              "3       31357            waiting to exhale      [romance, drama, comedy]   \n",
              "4       11862  father of the bride part ii                      [comedy]   \n",
              "...       ...                          ...                           ...   \n",
              "45459  222848              caged heat 3000             [science fiction]   \n",
              "45460   30840                   robin hood      [romance, action, drama]   \n",
              "45461  439050                       subdue               [family, drama]   \n",
              "45462  111109          century of birthing                       [drama]   \n",
              "45463   67758                     betrayal     [drama, action, thriller]   \n",
              "\n",
              "                                                overview  \n",
              "0      led by woody, andy's toys live happily in his ...  \n",
              "1      when siblings judy and peter discover an encha...  \n",
              "2      a family wedding reignites the ancient feud be...  \n",
              "3      cheated on, mistreated and stepped on, the wom...  \n",
              "4      just when george banks has recovered from his ...  \n",
              "...                                                  ...  \n",
              "45459  it's the year 3000 ad. the world's most danger...  \n",
              "45460  yet another version of the classic epic, with ...  \n",
              "45461        rising and falling between a man and woman.  \n",
              "45462  an artist struggles to finish his work while a...  \n",
              "45463  when one of her hits goes wrong, a professiona...  \n",
              "\n",
              "[42143 rows x 4 columns]"
            ]
          },
          "execution_count": 9,
          "metadata": {},
          "output_type": "execute_result"
        }
      ],
      "source": [
        "data_movie"
      ]
    },
    {
      "cell_type": "markdown",
      "id": "1666ec0b",
      "metadata": {
        "id": "1666ec0b",
        "papermill": {
          "duration": 0.011778,
          "end_time": "2024-01-10T20:51:14.083144",
          "exception": false,
          "start_time": "2024-01-10T20:51:14.071366",
          "status": "completed"
        },
        "tags": []
      },
      "source": [
        "##3.3 Tokenize overview and title"
      ]
    },
    {
      "cell_type": "code",
      "execution_count": null,
      "id": "3c386fb2",
      "metadata": {
        "execution": {
          "iopub.execute_input": "2024-01-10T20:51:14.148641Z",
          "iopub.status.busy": "2024-01-10T20:51:14.147846Z",
          "iopub.status.idle": "2024-01-10T20:51:14.688627Z",
          "shell.execute_reply": "2024-01-10T20:51:14.687653Z"
        },
        "id": "3c386fb2",
        "outputId": "94e9e19d-38ce-4a6d-fdcc-e85528f53f60",
        "papermill": {
          "duration": 0.555694,
          "end_time": "2024-01-10T20:51:14.690553",
          "exception": false,
          "start_time": "2024-01-10T20:51:14.134859",
          "status": "completed"
        },
        "tags": []
      },
      "outputs": [
        {
          "name": "stdout",
          "output_type": "stream",
          "text": [
            "[nltk_data] Downloading package punkt to /usr/share/nltk_data...\n",
            "[nltk_data]   Package punkt is already up-to-date!\n",
            "[nltk_data] Downloading package stopwords to /usr/share/nltk_data...\n",
            "[nltk_data]   Package stopwords is already up-to-date!\n"
          ]
        },
        {
          "data": {
            "text/plain": [
              "True"
            ]
          },
          "execution_count": 10,
          "metadata": {},
          "output_type": "execute_result"
        }
      ],
      "source": [
        "from nltk.tokenize import word_tokenize\n",
        "import nltk\n",
        "nltk.download('punkt')\n",
        "nltk.download('stopwords')"
      ]
    },
    {
      "cell_type": "code",
      "execution_count": null,
      "id": "539565ac",
      "metadata": {
        "execution": {
          "iopub.execute_input": "2024-01-10T20:51:14.716903Z",
          "iopub.status.busy": "2024-01-10T20:51:14.716134Z",
          "iopub.status.idle": "2024-01-10T20:51:49.375246Z",
          "shell.execute_reply": "2024-01-10T20:51:49.374441Z"
        },
        "id": "539565ac",
        "papermill": {
          "duration": 34.674552,
          "end_time": "2024-01-10T20:51:49.377569",
          "exception": false,
          "start_time": "2024-01-10T20:51:14.703017",
          "status": "completed"
        },
        "tags": []
      },
      "outputs": [],
      "source": [
        "#Tokenize the overview and title\n",
        "data_movie[\"overview\"] = data_movie[\"overview\"].apply(word_tokenize)\n",
        "data_movie[\"title_list\"] = data_movie[\"title\"].apply(word_tokenize)"
      ]
    },
    {
      "cell_type": "markdown",
      "id": "a8399139",
      "metadata": {
        "id": "a8399139",
        "papermill": {
          "duration": 0.012028,
          "end_time": "2024-01-10T20:51:49.402456",
          "exception": false,
          "start_time": "2024-01-10T20:51:49.390428",
          "status": "completed"
        },
        "tags": []
      },
      "source": [
        "##3.4 Removing Punctuations and Stopwords\n"
      ]
    },
    {
      "cell_type": "code",
      "execution_count": null,
      "id": "9bca3352",
      "metadata": {
        "execution": {
          "iopub.execute_input": "2024-01-10T20:51:49.428159Z",
          "iopub.status.busy": "2024-01-10T20:51:49.427857Z",
          "iopub.status.idle": "2024-01-10T20:51:50.161422Z",
          "shell.execute_reply": "2024-01-10T20:51:50.160649Z"
        },
        "id": "9bca3352",
        "papermill": {
          "duration": 0.74914,
          "end_time": "2024-01-10T20:51:50.163836",
          "exception": false,
          "start_time": "2024-01-10T20:51:49.414696",
          "status": "completed"
        },
        "tags": []
      },
      "outputs": [],
      "source": [
        "from nltk.corpus import stopwords\n",
        "from string import punctuation\n",
        "\n",
        "list_stopwords = set(stopwords.words('english') + list(punctuation))\n",
        "data_movie[\"overview\"] = data_movie[\"overview\"].apply(lambda x: [word for word in x if word not in list_stopwords])\n",
        "data_movie[\"title_list\"] = data_movie[\"title_list\"].apply(lambda x: [word for word in x if word not in list_stopwords])\n",
        "data_movie[\"genres\"] = data_movie[\"genres\"].apply(lambda x: [word for word in x if word not in list_stopwords])"
      ]
    },
    {
      "cell_type": "code",
      "execution_count": null,
      "id": "85d7ea13",
      "metadata": {
        "execution": {
          "iopub.execute_input": "2024-01-10T20:51:50.190388Z",
          "iopub.status.busy": "2024-01-10T20:51:50.190078Z",
          "iopub.status.idle": "2024-01-10T20:51:53.980117Z",
          "shell.execute_reply": "2024-01-10T20:51:53.979328Z"
        },
        "id": "85d7ea13",
        "papermill": {
          "duration": 3.805746,
          "end_time": "2024-01-10T20:51:53.982448",
          "exception": false,
          "start_time": "2024-01-10T20:51:50.176702",
          "status": "completed"
        },
        "tags": []
      },
      "outputs": [],
      "source": [
        "import string\n",
        "data_movie['overview'] = data_movie['overview'].apply(lambda x : [word.translate(str.maketrans('', '', string.punctuation)) for word in x])\n",
        "data_movie['overview'] = data_movie['overview'].apply(lambda x : [word for word in x if len(word) > 0])"
      ]
    },
    {
      "cell_type": "code",
      "execution_count": null,
      "id": "97b0bc69",
      "metadata": {
        "execution": {
          "iopub.execute_input": "2024-01-10T20:51:54.009050Z",
          "iopub.status.busy": "2024-01-10T20:51:54.008732Z",
          "iopub.status.idle": "2024-01-10T20:51:54.575982Z",
          "shell.execute_reply": "2024-01-10T20:51:54.575143Z"
        },
        "id": "97b0bc69",
        "papermill": {
          "duration": 0.58298,
          "end_time": "2024-01-10T20:51:54.578267",
          "exception": false,
          "start_time": "2024-01-10T20:51:53.995287",
          "status": "completed"
        },
        "tags": []
      },
      "outputs": [],
      "source": [
        "data_movie[\"title_list\"] = data_movie[\"title_list\"].apply(lambda x : list(set(x)))\n",
        "data_movie[\"genres\"] = data_movie[\"genres\"].apply(lambda x : list(set(x)))\n",
        "data_movie['overview'] = data_movie['overview'].apply(lambda x : list(set(x)))"
      ]
    },
    {
      "cell_type": "markdown",
      "id": "b34c7dd5",
      "metadata": {
        "id": "b34c7dd5",
        "papermill": {
          "duration": 0.01276,
          "end_time": "2024-01-10T20:51:54.605121",
          "exception": false,
          "start_time": "2024-01-10T20:51:54.592361",
          "status": "completed"
        },
        "tags": []
      },
      "source": [
        "##3.5 Import ratings data and split into train and test"
      ]
    },
    {
      "cell_type": "code",
      "execution_count": null,
      "id": "6c4e439d",
      "metadata": {
        "execution": {
          "iopub.execute_input": "2024-01-10T20:51:54.631399Z",
          "iopub.status.busy": "2024-01-10T20:51:54.630851Z",
          "iopub.status.idle": "2024-01-10T20:52:14.345893Z",
          "shell.execute_reply": "2024-01-10T20:52:14.345052Z"
        },
        "id": "6c4e439d",
        "papermill": {
          "duration": 19.730778,
          "end_time": "2024-01-10T20:52:14.348279",
          "exception": false,
          "start_time": "2024-01-10T20:51:54.617501",
          "status": "completed"
        },
        "tags": []
      },
      "outputs": [],
      "source": [
        "ratings_ori = pd.read_csv(\"/kaggle/input/the-movies-dataset/ratings.csv\")\n",
        "movie_id = list(data_movie_tfidf[\"id\"])\n",
        "ratings = ratings_ori[ratings_ori[\"movieId\"].isin(movie_id)]\n",
        "ratings.index = range(0,len(ratings.index))"
      ]
    },
    {
      "cell_type": "code",
      "execution_count": null,
      "id": "d5420dde",
      "metadata": {
        "execution": {
          "iopub.execute_input": "2024-01-10T20:52:14.375829Z",
          "iopub.status.busy": "2024-01-10T20:52:14.375512Z",
          "iopub.status.idle": "2024-01-10T20:52:14.382182Z",
          "shell.execute_reply": "2024-01-10T20:52:14.381332Z"
        },
        "id": "d5420dde",
        "papermill": {
          "duration": 0.022509,
          "end_time": "2024-01-10T20:52:14.383971",
          "exception": false,
          "start_time": "2024-01-10T20:52:14.361462",
          "status": "completed"
        },
        "tags": []
      },
      "outputs": [],
      "source": [
        "class Datasets:\n",
        "  def __init__(self, ratings : pd.DataFrame, movie_data: pd.DataFrame):\n",
        "    self.ratings = ratings\n",
        "    self.movie_data = movie_data\n",
        "\n",
        "  def split_data(self):\n",
        "    self.ratings = self.ratings[self.ratings[\"rating\"] >= 3]\n",
        "    self.ratings.index = range(0, len(self.ratings.index))\n",
        "    self.ratings[\"rating_order\"] = self.ratings.groupby(\"userId\")[\"timestamp\"].rank(ascending = True, method = \"first\")\n",
        "    # We split selk.No_item_test for tesing, n - self.No_item_test for training\n",
        "    self.rating_train = self.ratings[self.ratings[\"rating_order\"] <= 1]\n",
        "    self.rating_test = self.ratings[self.ratings[\"rating_order\"] > 1]\n"
      ]
    },
    {
      "cell_type": "markdown",
      "id": "0d42944c",
      "metadata": {
        "id": "0d42944c",
        "papermill": {
          "duration": 0.012265,
          "end_time": "2024-01-10T20:52:14.408726",
          "exception": false,
          "start_time": "2024-01-10T20:52:14.396461",
          "status": "completed"
        },
        "tags": []
      },
      "source": [
        "#4.TfIdf Vectorizer"
      ]
    },
    {
      "cell_type": "markdown",
      "id": "8e895481",
      "metadata": {
        "id": "8e895481",
        "papermill": {
          "duration": 0.012273,
          "end_time": "2024-01-10T20:52:14.433520",
          "exception": false,
          "start_time": "2024-01-10T20:52:14.421247",
          "status": "completed"
        },
        "tags": []
      },
      "source": [
        "##4.1 Build tf-idf matrix"
      ]
    },
    {
      "cell_type": "code",
      "execution_count": null,
      "id": "fa01a03c",
      "metadata": {
        "execution": {
          "iopub.execute_input": "2024-01-10T20:52:14.459427Z",
          "iopub.status.busy": "2024-01-10T20:52:14.459169Z",
          "iopub.status.idle": "2024-01-10T20:52:16.757305Z",
          "shell.execute_reply": "2024-01-10T20:52:16.756283Z"
        },
        "id": "fa01a03c",
        "outputId": "044ac479-45f0-4363-862d-0e037515c7b5",
        "papermill": {
          "duration": 2.313739,
          "end_time": "2024-01-10T20:52:16.759678",
          "exception": false,
          "start_time": "2024-01-10T20:52:14.445939",
          "status": "completed"
        },
        "tags": []
      },
      "outputs": [
        {
          "name": "stderr",
          "output_type": "stream",
          "text": [
            "/tmp/ipykernel_25/152895867.py:9: SettingWithCopyWarning: \n",
            "A value is trying to be set on a copy of a slice from a DataFrame.\n",
            "Try using .loc[row_indexer,col_indexer] = value instead\n",
            "\n",
            "See the caveats in the documentation: https://pandas.pydata.org/pandas-docs/stable/user_guide/indexing.html#returning-a-view-versus-a-copy\n",
            "  self.ratings[\"rating_order\"] = self.ratings.groupby(\"userId\")[\"timestamp\"].rank(ascending = True, method = \"first\")\n"
          ]
        }
      ],
      "source": [
        "tfidf_datasets = Datasets(ratings, data_movie_tfidf)\n",
        "tfidf_datasets.split_data()"
      ]
    },
    {
      "cell_type": "code",
      "execution_count": null,
      "id": "6a97fcda",
      "metadata": {
        "execution": {
          "iopub.execute_input": "2024-01-10T20:52:16.787057Z",
          "iopub.status.busy": "2024-01-10T20:52:16.786752Z",
          "iopub.status.idle": "2024-01-10T20:52:16.791435Z",
          "shell.execute_reply": "2024-01-10T20:52:16.790561Z"
        },
        "id": "6a97fcda",
        "papermill": {
          "duration": 0.020361,
          "end_time": "2024-01-10T20:52:16.793345",
          "exception": false,
          "start_time": "2024-01-10T20:52:16.772984",
          "status": "completed"
        },
        "tags": []
      },
      "outputs": [],
      "source": [
        "def create_doc_overview(x):\n",
        "    return x[\"overview\"]"
      ]
    },
    {
      "cell_type": "code",
      "execution_count": null,
      "id": "3bcc5aba",
      "metadata": {
        "execution": {
          "iopub.execute_input": "2024-01-10T20:52:16.820013Z",
          "iopub.status.busy": "2024-01-10T20:52:16.819719Z",
          "iopub.status.idle": "2024-01-10T20:52:19.824349Z",
          "shell.execute_reply": "2024-01-10T20:52:19.823344Z"
        },
        "id": "3bcc5aba",
        "papermill": {
          "duration": 3.020515,
          "end_time": "2024-01-10T20:52:19.826704",
          "exception": false,
          "start_time": "2024-01-10T20:52:16.806189",
          "status": "completed"
        },
        "tags": []
      },
      "outputs": [],
      "source": [
        "data_tfidf = tfidf_datasets.movie_data.apply(create_doc_overview,axis = 1)\n",
        "\n",
        "#Initialize tfidf object with removing ll english word such as: 'the',......\n",
        "tfidf = TfidfVectorizer(stop_words = 'english')\n",
        "\n",
        "\n",
        "#Fit the tfidf object for data column \"overview\"\n",
        "tfidf_matrix_movie = tfidf.fit_transform(data_tfidf)\n"
      ]
    },
    {
      "cell_type": "code",
      "execution_count": null,
      "id": "606201ce",
      "metadata": {
        "execution": {
          "iopub.execute_input": "2024-01-10T20:52:19.855416Z",
          "iopub.status.busy": "2024-01-10T20:52:19.855090Z",
          "iopub.status.idle": "2024-01-10T20:52:19.861268Z",
          "shell.execute_reply": "2024-01-10T20:52:19.860504Z"
        },
        "id": "606201ce",
        "papermill": {
          "duration": 0.022726,
          "end_time": "2024-01-10T20:52:19.863137",
          "exception": false,
          "start_time": "2024-01-10T20:52:19.840411",
          "status": "completed"
        },
        "tags": []
      },
      "outputs": [],
      "source": [
        "def get_recommendations_title(title, tfidf_matrix_movie,data_movie_tfidf,number_recommendation):\n",
        "    # Get the index of the movie user like in rating train\n",
        "    movieId_index = pd.Series(data_movie_tfidf.index, index = data_movie_tfidf[\"id\"].astype('int64'))\n",
        "    movieId = int(data_movie_tfidf[data_movie_tfidf[\"title\"] == title][\"id\"])\n",
        "\n",
        "    #Computes the cosine similarity between the user profile and all item profiles\n",
        "    cosine_similarities = cosine_similarity(tfidf_matrix_movie[movieId_index[movieId]], tfidf_matrix_movie)[0]\n",
        "    #Gets the top similar items index\n",
        "    similar_indices = cosine_similarities.argsort()[-2:-2-number_recommendation:-1]\n",
        "\n",
        "    # Return the top 10 most similar movies\n",
        "    return data_movie_tfidf['title'].iloc[similar_indices]"
      ]
    },
    {
      "cell_type": "code",
      "execution_count": null,
      "id": "ee47aca7",
      "metadata": {
        "execution": {
          "iopub.execute_input": "2024-01-10T20:52:19.890008Z",
          "iopub.status.busy": "2024-01-10T20:52:19.889728Z",
          "iopub.status.idle": "2024-01-10T20:52:19.939173Z",
          "shell.execute_reply": "2024-01-10T20:52:19.938106Z"
        },
        "id": "ee47aca7",
        "outputId": "0536746f-f21d-4a4a-86a3-198709ed247f",
        "papermill": {
          "duration": 0.065386,
          "end_time": "2024-01-10T20:52:19.941354",
          "exception": false,
          "start_time": "2024-01-10T20:52:19.875968",
          "status": "completed"
        },
        "tags": []
      },
      "outputs": [
        {
          "name": "stderr",
          "output_type": "stream",
          "text": [
            "/tmp/ipykernel_25/3529450204.py:4: FutureWarning: Calling int on a single element Series is deprecated and will raise a TypeError in the future. Use int(ser.iloc[0]) instead\n",
            "  movieId = int(data_movie_tfidf[data_movie_tfidf[\"title\"] == title][\"id\"])\n"
          ]
        },
        {
          "data": {
            "text/plain": [
              "15011                                     toy story 3\n",
              "2904                                      toy story 2\n",
              "23588                                       small fry\n",
              "10095                          the 40 year old virgin\n",
              "22963                     andy hardy's blonde trouble\n",
              "35946    superstar: the life and times of andy warhol\n",
              "39733    andy peters: exclamation mark question point\n",
              "8147                                        the champ\n",
              "1022                            rebel without a cause\n",
              "26087                      life begins for andy hardy\n",
              "Name: title, dtype: object"
            ]
          },
          "execution_count": 21,
          "metadata": {},
          "output_type": "execute_result"
        }
      ],
      "source": [
        "get_recommendations_title(\"toy story\", tfidf_matrix_movie,tfidf_datasets.movie_data,10)"
      ]
    },
    {
      "cell_type": "code",
      "execution_count": null,
      "id": "47d734fd",
      "metadata": {
        "execution": {
          "iopub.execute_input": "2024-01-10T20:52:19.969263Z",
          "iopub.status.busy": "2024-01-10T20:52:19.968954Z",
          "iopub.status.idle": "2024-01-10T20:52:19.975047Z",
          "shell.execute_reply": "2024-01-10T20:52:19.974070Z"
        },
        "id": "47d734fd",
        "papermill": {
          "duration": 0.022018,
          "end_time": "2024-01-10T20:52:19.976927",
          "exception": false,
          "start_time": "2024-01-10T20:52:19.954909",
          "status": "completed"
        },
        "tags": []
      },
      "outputs": [],
      "source": [
        "def get_recommendations_index(user_id, rating_train,tfidf_matrix_movie,movie_data,number_recommendation):\n",
        "    # Get the index of the movie user like in rating train\n",
        "    movieId_index = pd.Series(movie_data.index, index = movie_data[\"id\"].astype('int64'))\n",
        "    movie_idx = [int(movieId) for movieId in rating_train[rating_train[\"userId\"] == user_id][\"movieId\"]]\n",
        "\n",
        "    #Computes the cosine similarity between the user profile and all item profiles\n",
        "    cosine_similarities = cosine_similarity(tfidf_matrix_movie[movieId_index[movie_idx]], tfidf_matrix_movie)[0]\n",
        "    #Gets the top similar items index\n",
        "    similar_indices = cosine_similarities.argsort()[-2:-2-number_recommendation:-1]\n",
        "    return similar_indices"
      ]
    },
    {
      "cell_type": "markdown",
      "id": "40201ebc",
      "metadata": {
        "id": "40201ebc",
        "papermill": {
          "duration": 0.012847,
          "end_time": "2024-01-10T20:52:20.002890",
          "exception": false,
          "start_time": "2024-01-10T20:52:19.990043",
          "status": "completed"
        },
        "tags": []
      },
      "source": [
        "##4.4 Using K-means"
      ]
    },
    {
      "cell_type": "code",
      "execution_count": null,
      "id": "0c080ec6",
      "metadata": {
        "execution": {
          "iopub.execute_input": "2024-01-10T20:52:20.031325Z",
          "iopub.status.busy": "2024-01-10T20:52:20.031055Z",
          "iopub.status.idle": "2024-01-10T20:52:20.041486Z",
          "shell.execute_reply": "2024-01-10T20:52:20.040647Z"
        },
        "id": "0c080ec6",
        "papermill": {
          "duration": 0.026535,
          "end_time": "2024-01-10T20:52:20.043386",
          "exception": false,
          "start_time": "2024-01-10T20:52:20.016851",
          "status": "completed"
        },
        "tags": []
      },
      "outputs": [],
      "source": [
        "class Kmean_TFIDF():\n",
        "  def __init__(self,noOfCluster,datasets):\n",
        "    self.datasets = datasets\n",
        "    self.movieId_index = pd.Series(self.datasets.movie_data.index, index = self.datasets.movie_data[\"id\"].astype('int64'))\n",
        "    self.tfidf_matrix = self.init_matrix_tfidf()\n",
        "    self.kmeans = cluster.KMeans(n_clusters=noOfCluster, random_state=0, n_init=\"auto\").fit(self.tfidf_matrix)\n",
        "    self.cluster_map = self.create_cluster_map()\n",
        "    self.user_id = set(self.datasets.rating_train[\"userId\"])\n",
        "\n",
        "\n",
        "  def init_matrix_tfidf(self):\n",
        "    data_tfidf = self.datasets.movie_data.apply(create_doc_overview,axis = 1)\n",
        "    #Initialize tfidf object with removing ll english word such as: 'the',......\n",
        "    tfidf = TfidfVectorizer(stop_words = 'english')\n",
        "\n",
        "    #Fit the tfidf object for data column \"overview\":\n",
        "    tfidf_matrix = tfidf.fit_transform(data_tfidf)\n",
        "\n",
        "    return tfidf_matrix\n",
        "\n",
        "  def create_cluster_map(self):\n",
        "    cluster_map = pd.DataFrame()\n",
        "    cluster_map['movie_index'] = self.datasets.movie_data.id.values\n",
        "    cluster_map['title'] = self.datasets.movie_data.title.values\n",
        "    cluster_map['cluster'] = self.kmeans.labels_\n",
        "    return cluster_map\n",
        "\n",
        "  def recommend(self,userId):\n",
        "    # uv = user_vector(userId,self.ratings,self.movie_data)\n",
        "    if userId in self.user_id:\n",
        "      movie_id = int(self.datasets.rating_train[self.datasets.rating_train[\"userId\"] == userId][\"movieId\"])\n",
        "      index = self.movieId_index[movie_id]\n",
        "      vector = self.tfidf_matrix[index]\n",
        "      cluster_prediction = int(self.kmeans.predict(vector))\n",
        "      return self.cluster_map[self.cluster_map[\"cluster\"] == cluster_prediction][\"movie_index\"].to_list()\n",
        "    else:\n",
        "      # print(f\"{userId} not in datasets\")\n",
        "      return None\n",
        "\n",
        "\n",
        "\n"
      ]
    },
    {
      "cell_type": "code",
      "execution_count": null,
      "id": "4168bebe",
      "metadata": {
        "execution": {
          "iopub.execute_input": "2024-01-10T20:52:20.071247Z",
          "iopub.status.busy": "2024-01-10T20:52:20.070984Z",
          "iopub.status.idle": "2024-01-10T20:52:38.800084Z",
          "shell.execute_reply": "2024-01-10T20:52:38.799091Z"
        },
        "id": "4168bebe",
        "papermill": {
          "duration": 18.745702,
          "end_time": "2024-01-10T20:52:38.802435",
          "exception": false,
          "start_time": "2024-01-10T20:52:20.056733",
          "status": "completed"
        },
        "tags": []
      },
      "outputs": [],
      "source": [
        "kmeans_tfidf = Kmean_TFIDF(100,tfidf_datasets)"
      ]
    },
    {
      "cell_type": "markdown",
      "id": "d87d258d",
      "metadata": {
        "id": "d87d258d",
        "papermill": {
          "duration": 0.013295,
          "end_time": "2024-01-10T20:52:38.829578",
          "exception": false,
          "start_time": "2024-01-10T20:52:38.816283",
          "status": "completed"
        },
        "tags": []
      },
      "source": [
        "#5.Word2Vec"
      ]
    },
    {
      "cell_type": "markdown",
      "id": "a8d6b5f7",
      "metadata": {
        "id": "a8d6b5f7",
        "papermill": {
          "duration": 0.013246,
          "end_time": "2024-01-10T20:52:38.856356",
          "exception": false,
          "start_time": "2024-01-10T20:52:38.843110",
          "status": "completed"
        },
        "tags": []
      },
      "source": [
        "##5.1 Download pre-train model"
      ]
    },
    {
      "cell_type": "code",
      "execution_count": null,
      "id": "abaf370b",
      "metadata": {
        "execution": {
          "iopub.execute_input": "2024-01-10T20:52:38.884764Z",
          "iopub.status.busy": "2024-01-10T20:52:38.884412Z",
          "iopub.status.idle": "2024-01-10T20:57:14.332516Z",
          "shell.execute_reply": "2024-01-10T20:57:14.331460Z"
        },
        "id": "abaf370b",
        "outputId": "7e19e3be-dbb1-4d14-c17a-9b2796c115f1",
        "papermill": {
          "duration": 275.465059,
          "end_time": "2024-01-10T20:57:14.335175",
          "exception": false,
          "start_time": "2024-01-10T20:52:38.870116",
          "status": "completed"
        },
        "tags": []
      },
      "outputs": [
        {
          "name": "stdout",
          "output_type": "stream",
          "text": [
            "[===============================================---] 95.0% 1579.7/1662.8MB downloaded"
          ]
        }
      ],
      "source": [
        "import gensim\n",
        "import gensim.downloader\n",
        "\n",
        "wv = gensim.downloader.load('word2vec-google-news-300')"
      ]
    },
    {
      "cell_type": "markdown",
      "id": "ea4afdec",
      "metadata": {
        "id": "ea4afdec",
        "papermill": {
          "duration": 12.455953,
          "end_time": "2024-01-10T20:57:39.285285",
          "exception": false,
          "start_time": "2024-01-10T20:57:26.829332",
          "status": "completed"
        },
        "tags": []
      },
      "source": [
        "##5.2 Keep only token which is in word2vec"
      ]
    },
    {
      "cell_type": "code",
      "execution_count": null,
      "id": "31aae0bb",
      "metadata": {
        "execution": {
          "iopub.execute_input": "2024-01-10T20:58:04.161255Z",
          "iopub.status.busy": "2024-01-10T20:58:04.160199Z",
          "iopub.status.idle": "2024-01-10T20:58:04.171585Z",
          "shell.execute_reply": "2024-01-10T20:58:04.170624Z"
        },
        "id": "31aae0bb",
        "papermill": {
          "duration": 12.310355,
          "end_time": "2024-01-10T20:58:04.173559",
          "exception": false,
          "start_time": "2024-01-10T20:57:51.863204",
          "status": "completed"
        },
        "tags": []
      },
      "outputs": [],
      "source": [
        "data_movie_wv = data_movie.loc[:,[\"id\",\"title\",\"genres\",\"overview\",\"title_list\"]]"
      ]
    },
    {
      "cell_type": "code",
      "execution_count": null,
      "id": "4339d258",
      "metadata": {
        "execution": {
          "iopub.execute_input": "2024-01-10T20:58:29.269103Z",
          "iopub.status.busy": "2024-01-10T20:58:29.268702Z",
          "iopub.status.idle": "2024-01-10T20:58:29.295030Z",
          "shell.execute_reply": "2024-01-10T20:58:29.294084Z"
        },
        "id": "4339d258",
        "outputId": "984e981e-995e-4c65-c3e1-0cdfd20b7dc6",
        "papermill": {
          "duration": 12.583149,
          "end_time": "2024-01-10T20:58:29.297130",
          "exception": false,
          "start_time": "2024-01-10T20:58:16.713981",
          "status": "completed"
        },
        "tags": []
      },
      "outputs": [
        {
          "data": {
            "text/html": [
              "<div>\n",
              "<style scoped>\n",
              "    .dataframe tbody tr th:only-of-type {\n",
              "        vertical-align: middle;\n",
              "    }\n",
              "\n",
              "    .dataframe tbody tr th {\n",
              "        vertical-align: top;\n",
              "    }\n",
              "\n",
              "    .dataframe thead th {\n",
              "        text-align: right;\n",
              "    }\n",
              "</style>\n",
              "<table border=\"1\" class=\"dataframe\">\n",
              "  <thead>\n",
              "    <tr style=\"text-align: right;\">\n",
              "      <th></th>\n",
              "      <th>id</th>\n",
              "      <th>title</th>\n",
              "      <th>genres</th>\n",
              "      <th>overview</th>\n",
              "      <th>title_list</th>\n",
              "    </tr>\n",
              "  </thead>\n",
              "  <tbody>\n",
              "    <tr>\n",
              "      <th>0</th>\n",
              "      <td>862</td>\n",
              "      <td>toy story</td>\n",
              "      <td>[family, comedy, animation]</td>\n",
              "      <td>[aside, led, circumstances, place, duo, brings...</td>\n",
              "      <td>[toy, story]</td>\n",
              "    </tr>\n",
              "    <tr>\n",
              "      <th>1</th>\n",
              "      <td>8844</td>\n",
              "      <td>jumanji</td>\n",
              "      <td>[fantasy, adventure, family]</td>\n",
              "      <td>[door, discover, magical, find, trapped, finis...</td>\n",
              "      <td>[jumanji]</td>\n",
              "    </tr>\n",
              "    <tr>\n",
              "      <th>2</th>\n",
              "      <td>15602</td>\n",
              "      <td>grumpier old men</td>\n",
              "      <td>[romance, comedy]</td>\n",
              "      <td>[divorcée, locals, ancient, restaurant, feud, ...</td>\n",
              "      <td>[men, grumpier, old]</td>\n",
              "    </tr>\n",
              "    <tr>\n",
              "      <th>3</th>\n",
              "      <td>31357</td>\n",
              "      <td>waiting to exhale</td>\n",
              "      <td>[romance, comedy, drama]</td>\n",
              "      <td>[lovers, find, better, breath, mistreated, les...</td>\n",
              "      <td>[exhale, waiting]</td>\n",
              "    </tr>\n",
              "    <tr>\n",
              "      <th>4</th>\n",
              "      <td>11862</td>\n",
              "      <td>father of the bride part ii</td>\n",
              "      <td>[comedy]</td>\n",
              "      <td>[news, pregnant, receives, expecting, recovere...</td>\n",
              "      <td>[father, part, ii, bride]</td>\n",
              "    </tr>\n",
              "    <tr>\n",
              "      <th>...</th>\n",
              "      <td>...</td>\n",
              "      <td>...</td>\n",
              "      <td>...</td>\n",
              "      <td>...</td>\n",
              "      <td>...</td>\n",
              "    </tr>\n",
              "    <tr>\n",
              "      <th>45459</th>\n",
              "      <td>222848</td>\n",
              "      <td>caged heat 3000</td>\n",
              "      <td>[science fiction]</td>\n",
              "      <td>[defenses, finds, caged, soon, remote, war, he...</td>\n",
              "      <td>[caged, heat, 3000]</td>\n",
              "    </tr>\n",
              "    <tr>\n",
              "      <th>45460</th>\n",
              "      <td>30840</td>\n",
              "      <td>robin hood</td>\n",
              "      <td>[romance, drama, action]</td>\n",
              "      <td>[darker, marian, somewhat, version, story, cha...</td>\n",
              "      <td>[robin, hood]</td>\n",
              "    </tr>\n",
              "    <tr>\n",
              "      <th>45461</th>\n",
              "      <td>439050</td>\n",
              "      <td>subdue</td>\n",
              "      <td>[family, drama]</td>\n",
              "      <td>[falling, rising, man, woman]</td>\n",
              "      <td>[subdue]</td>\n",
              "    </tr>\n",
              "    <tr>\n",
              "      <th>45462</th>\n",
              "      <td>111109</td>\n",
              "      <td>century of birthing</td>\n",
              "      <td>[drama]</td>\n",
              "      <td>[cult, storyline, artist, plays, head, finish,...</td>\n",
              "      <td>[birthing, century]</td>\n",
              "    </tr>\n",
              "    <tr>\n",
              "      <th>45463</th>\n",
              "      <td>67758</td>\n",
              "      <td>betrayal</td>\n",
              "      <td>[action, drama, thriller]</td>\n",
              "      <td>[one, million, goes, dollars, boss, wrong, bel...</td>\n",
              "      <td>[betrayal]</td>\n",
              "    </tr>\n",
              "  </tbody>\n",
              "</table>\n",
              "<p>42143 rows × 5 columns</p>\n",
              "</div>"
            ],
            "text/plain": [
              "           id                        title                        genres  \\\n",
              "0         862                    toy story   [family, comedy, animation]   \n",
              "1        8844                      jumanji  [fantasy, adventure, family]   \n",
              "2       15602             grumpier old men             [romance, comedy]   \n",
              "3       31357            waiting to exhale      [romance, comedy, drama]   \n",
              "4       11862  father of the bride part ii                      [comedy]   \n",
              "...       ...                          ...                           ...   \n",
              "45459  222848              caged heat 3000             [science fiction]   \n",
              "45460   30840                   robin hood      [romance, drama, action]   \n",
              "45461  439050                       subdue               [family, drama]   \n",
              "45462  111109          century of birthing                       [drama]   \n",
              "45463   67758                     betrayal     [action, drama, thriller]   \n",
              "\n",
              "                                                overview  \\\n",
              "0      [aside, led, circumstances, place, duo, brings...   \n",
              "1      [door, discover, magical, find, trapped, finis...   \n",
              "2      [divorcée, locals, ancient, restaurant, feud, ...   \n",
              "3      [lovers, find, better, breath, mistreated, les...   \n",
              "4      [news, pregnant, receives, expecting, recovere...   \n",
              "...                                                  ...   \n",
              "45459  [defenses, finds, caged, soon, remote, war, he...   \n",
              "45460  [darker, marian, somewhat, version, story, cha...   \n",
              "45461                      [falling, rising, man, woman]   \n",
              "45462  [cult, storyline, artist, plays, head, finish,...   \n",
              "45463  [one, million, goes, dollars, boss, wrong, bel...   \n",
              "\n",
              "                      title_list  \n",
              "0                   [toy, story]  \n",
              "1                      [jumanji]  \n",
              "2           [men, grumpier, old]  \n",
              "3              [exhale, waiting]  \n",
              "4      [father, part, ii, bride]  \n",
              "...                          ...  \n",
              "45459        [caged, heat, 3000]  \n",
              "45460              [robin, hood]  \n",
              "45461                   [subdue]  \n",
              "45462        [birthing, century]  \n",
              "45463                 [betrayal]  \n",
              "\n",
              "[42143 rows x 5 columns]"
            ]
          },
          "execution_count": 27,
          "metadata": {},
          "output_type": "execute_result"
        }
      ],
      "source": [
        "data_movie_wv"
      ]
    },
    {
      "cell_type": "code",
      "execution_count": null,
      "id": "e14acb36",
      "metadata": {
        "execution": {
          "iopub.execute_input": "2024-01-10T20:58:54.250249Z",
          "iopub.status.busy": "2024-01-10T20:58:54.249374Z",
          "iopub.status.idle": "2024-01-10T20:58:55.347779Z",
          "shell.execute_reply": "2024-01-10T20:58:55.346628Z"
        },
        "id": "e14acb36",
        "papermill": {
          "duration": 13.588721,
          "end_time": "2024-01-10T20:58:55.350161",
          "exception": false,
          "start_time": "2024-01-10T20:58:41.761440",
          "status": "completed"
        },
        "tags": []
      },
      "outputs": [],
      "source": [
        "matrix_film_vocab = []\n",
        "for list_ in data_movie_wv.to_numpy():\n",
        "    list_[2] = [word for word in list_[2] if word in wv.key_to_index]\n",
        "    list_[3] = [word for word in list_[3] if word in wv.key_to_index]\n",
        "    list_[4] = [word for word in list_[4] if word in wv.key_to_index]\n",
        "    matrix_film_vocab.append(list_)\n",
        "movie_vocab = pd.DataFrame(matrix_film_vocab, columns=data_movie_wv.columns)"
      ]
    },
    {
      "cell_type": "code",
      "execution_count": null,
      "id": "7633a571",
      "metadata": {
        "execution": {
          "iopub.execute_input": "2024-01-10T20:59:20.441224Z",
          "iopub.status.busy": "2024-01-10T20:59:20.440313Z",
          "iopub.status.idle": "2024-01-10T20:59:22.746163Z",
          "shell.execute_reply": "2024-01-10T20:59:22.745138Z"
        },
        "id": "7633a571",
        "outputId": "9d46fbb8-3d36-4381-aadb-0a114ac57268",
        "papermill": {
          "duration": 15.003216,
          "end_time": "2024-01-10T20:59:22.748572",
          "exception": false,
          "start_time": "2024-01-10T20:59:07.745356",
          "status": "completed"
        },
        "tags": []
      },
      "outputs": [
        {
          "name": "stderr",
          "output_type": "stream",
          "text": [
            "/tmp/ipykernel_25/152895867.py:9: SettingWithCopyWarning: \n",
            "A value is trying to be set on a copy of a slice from a DataFrame.\n",
            "Try using .loc[row_indexer,col_indexer] = value instead\n",
            "\n",
            "See the caveats in the documentation: https://pandas.pydata.org/pandas-docs/stable/user_guide/indexing.html#returning-a-view-versus-a-copy\n",
            "  self.ratings[\"rating_order\"] = self.ratings.groupby(\"userId\")[\"timestamp\"].rank(ascending = True, method = \"first\")\n"
          ]
        }
      ],
      "source": [
        "datasets_w2v = Datasets(ratings,data_movie)\n",
        "datasets_w2v.split_data()"
      ]
    },
    {
      "cell_type": "markdown",
      "id": "d14c77c5",
      "metadata": {
        "id": "d14c77c5",
        "papermill": {
          "duration": 12.411402,
          "end_time": "2024-01-10T20:59:47.444940",
          "exception": false,
          "start_time": "2024-01-10T20:59:35.033538",
          "status": "completed"
        },
        "tags": []
      },
      "source": [
        "##5.4 Recommendation using cosine similarity"
      ]
    },
    {
      "cell_type": "code",
      "execution_count": null,
      "id": "4177e164",
      "metadata": {
        "execution": {
          "iopub.execute_input": "2024-01-10T21:00:12.249363Z",
          "iopub.status.busy": "2024-01-10T21:00:12.248825Z",
          "iopub.status.idle": "2024-01-10T21:00:12.543032Z",
          "shell.execute_reply": "2024-01-10T21:00:12.542234Z"
        },
        "id": "4177e164",
        "papermill": {
          "duration": 12.677771,
          "end_time": "2024-01-10T21:00:12.545273",
          "exception": false,
          "start_time": "2024-01-10T20:59:59.867502",
          "status": "completed"
        },
        "tags": []
      },
      "outputs": [],
      "source": [
        "number_recommendation_test_datasets = datasets_w2v.rating_test.groupby(\"userId\").count()[\"rating\"]"
      ]
    },
    {
      "cell_type": "code",
      "execution_count": null,
      "id": "1c4eceba",
      "metadata": {
        "execution": {
          "iopub.execute_input": "2024-01-10T21:00:38.182353Z",
          "iopub.status.busy": "2024-01-10T21:00:38.181957Z",
          "iopub.status.idle": "2024-01-10T21:00:38.193414Z",
          "shell.execute_reply": "2024-01-10T21:00:38.192527Z"
        },
        "id": "1c4eceba",
        "papermill": {
          "duration": 12.951036,
          "end_time": "2024-01-10T21:00:38.195287",
          "exception": false,
          "start_time": "2024-01-10T21:00:25.244251",
          "status": "completed"
        },
        "tags": []
      },
      "outputs": [],
      "source": [
        "def recommendation_user(user_id, rating_train, data_movie_wv,number_recommendation):\n",
        "    movieId_data_prefer_by_user = [int(movieId) for movieId in rating_train[rating_train[\"userId\"] == user_id][\"movieId\"]]\n",
        "    data_title_vocab = []\n",
        "    # ratings_movie = [rating for rating in rating_train[rating_train[\"userId\"] == user_id][\"rating\"]]\n",
        "    for movieId in movieId_data_prefer_by_user:\n",
        "          list_ = data_movie_wv[data_movie_wv[\"id\"] == movieId].to_numpy()[0]\n",
        "          list_[2] = [word for word in list_[2] if word in wv.key_to_index]\n",
        "          list_[3] = [word for word in list_[3] if word in wv.key_to_index]\n",
        "          list_[4] = [word for word in list_[4] if word in wv.key_to_index]\n",
        "          data_title_vocab.append(list_)\n",
        "\n",
        "    matrix_similarity = []\n",
        "    for list1 in data_title_vocab:\n",
        "        for list2 in movie_vocab.to_numpy():\n",
        "            try:\n",
        "                score_title = wv.n_similarity(list1[4], list2[4])\n",
        "                score_genre = wv.n_similarity(list1[2], list2[2])\n",
        "                score_overview = wv.n_similarity(list1[3], list2[3])\n",
        "            except:\n",
        "                score_title = 0\n",
        "                score_genre = 0\n",
        "                score_genre = 0\n",
        "            if ((list1[1] != list2[1]) & (score_genre > 0.85)):\n",
        "                matrix_similarity.append([list2[1], list1[1], score_title, score_genre, score_overview])\n",
        "    df_netflix_similarity = pd.DataFrame(matrix_similarity, columns = ['recommendation','title','score_title', 'score_genre', 'score_overview'])\n",
        "    df_netflix_similarity['final_score'] = (df_netflix_similarity['score_title'] + df_netflix_similarity['score_genre'] +\\\n",
        "                                           df_netflix_similarity['score_overview'])\n",
        "    return (df_netflix_similarity.sort_values(by=['final_score', 'score_genre', 'score_overview','score_title'], ascending=False).head(number_recommendation[user_id]))"
      ]
    },
    {
      "cell_type": "markdown",
      "id": "96220ebe",
      "metadata": {
        "id": "96220ebe",
        "papermill": {
          "duration": 13.535442,
          "end_time": "2024-01-10T21:01:04.504722",
          "exception": false,
          "start_time": "2024-01-10T21:00:50.969280",
          "status": "completed"
        },
        "tags": []
      },
      "source": [
        "#6.Evaluation"
      ]
    },
    {
      "cell_type": "code",
      "execution_count": null,
      "id": "c8c549f7",
      "metadata": {
        "execution": {
          "iopub.execute_input": "2024-01-10T21:01:29.984200Z",
          "iopub.status.busy": "2024-01-10T21:01:29.983254Z",
          "iopub.status.idle": "2024-01-10T21:01:29.988808Z",
          "shell.execute_reply": "2024-01-10T21:01:29.987880Z"
        },
        "id": "c8c549f7",
        "papermill": {
          "duration": 12.800491,
          "end_time": "2024-01-10T21:01:29.990789",
          "exception": false,
          "start_time": "2024-01-10T21:01:17.190298",
          "status": "completed"
        },
        "tags": []
      },
      "outputs": [],
      "source": [
        "def Precision(prediction, ground_truth):\n",
        "  count = 0\n",
        "  if len(prediction) == 0:\n",
        "    return 0\n",
        "  for movie in prediction:\n",
        "    if movie in ground_truth:\n",
        "      count += 1\n",
        "  return count / len(prediction)"
      ]
    },
    {
      "cell_type": "code",
      "execution_count": null,
      "id": "34d3c660",
      "metadata": {
        "execution": {
          "iopub.execute_input": "2024-01-10T21:01:55.264097Z",
          "iopub.status.busy": "2024-01-10T21:01:55.263678Z",
          "iopub.status.idle": "2024-01-10T21:01:55.270323Z",
          "shell.execute_reply": "2024-01-10T21:01:55.269441Z"
        },
        "id": "34d3c660",
        "papermill": {
          "duration": 12.716171,
          "end_time": "2024-01-10T21:01:55.272578",
          "exception": false,
          "start_time": "2024-01-10T21:01:42.556407",
          "status": "completed"
        },
        "tags": []
      },
      "outputs": [],
      "source": [
        "def PrecisionAllUserW2V(datasets):\n",
        "  rating_test_userId = set(datasets.rating_test[\"userId\"])\n",
        "  rating_train_userId = set(datasets.rating_train[\"userId\"])\n",
        "  precision = 0\n",
        "  for userId in tqdm(list(rating_train_userId)[:200]):\n",
        "    if userId in rating_test_userId:\n",
        "      prediction  = recommendation_user(userId,datasets.rating_train, data_movie_wv,number_recommendation_test_datasets).index.to_list()\n",
        "      grouth_truth = datasets.rating_test[datasets.rating_test[\"userId\"] == userId][\"movieId\"].to_list()\n",
        "      precision += Precision(prediction, grouth_truth)\n",
        "\n",
        "\n",
        "  return precision / 200"
      ]
    },
    {
      "cell_type": "code",
      "execution_count": null,
      "id": "c1d6d033",
      "metadata": {
        "execution": {
          "iopub.execute_input": "2024-01-10T21:02:20.438580Z",
          "iopub.status.busy": "2024-01-10T21:02:20.437512Z",
          "iopub.status.idle": "2024-01-10T22:27:09.057237Z",
          "shell.execute_reply": "2024-01-10T22:27:09.056223Z"
        },
        "id": "c1d6d033",
        "papermill": {
          "duration": 5101.188818,
          "end_time": "2024-01-10T22:27:09.059126",
          "exception": false,
          "start_time": "2024-01-10T21:02:07.870308",
          "status": "completed"
        },
        "tags": [],
        "outputId": "a3d8fda3-20d4-4638-84e2-f7a73234a175"
      },
      "outputs": [
        {
          "name": "stderr",
          "output_type": "stream",
          "text": [
            "100%|██████████| 200/200 [1:24:47<00:00, 25.44s/it]\n"
          ]
        },
        {
          "data": {
            "text/plain": [
              "0.008341336357783702"
            ]
          },
          "execution_count": 34,
          "metadata": {},
          "output_type": "execute_result"
        }
      ],
      "source": [
        "PrecisionAllUserW2V(datasets_w2v)"
      ]
    },
    {
      "cell_type": "code",
      "execution_count": null,
      "id": "c775e677",
      "metadata": {
        "execution": {
          "iopub.execute_input": "2024-01-10T22:27:33.933548Z",
          "iopub.status.busy": "2024-01-10T22:27:33.932797Z",
          "iopub.status.idle": "2024-01-10T22:27:33.939493Z",
          "shell.execute_reply": "2024-01-10T22:27:33.938638Z"
        },
        "id": "c775e677",
        "papermill": {
          "duration": 12.441858,
          "end_time": "2024-01-10T22:27:33.941550",
          "exception": false,
          "start_time": "2024-01-10T22:27:21.499692",
          "status": "completed"
        },
        "tags": []
      },
      "outputs": [],
      "source": [
        "def PrecisionAllUserTFIDF(datasets):\n",
        "  rating_test_userId = set(datasets.rating_test[\"userId\"])\n",
        "  rating_train_userId = set(datasets.rating_train[\"userId\"])\n",
        "  precision = 0\n",
        "  for userId in tqdm(list(rating_train_userId)):\n",
        "    if userId in rating_test_userId:\n",
        "        grouth_truth = datasets.rating_test[datasets.rating_test[\"userId\"] == userId][\"movieId\"].to_list()\n",
        "        prediction  = get_recommendations_index(userId,datasets.rating_train,tfidf_matrix_movie,datasets.movie_data,len(grouth_truth))\n",
        "        precision += Precision(prediction, grouth_truth)\n",
        "  return precision / len(rating_test_userId)\n"
      ]
    },
    {
      "cell_type": "code",
      "execution_count": null,
      "id": "a11dc2eb",
      "metadata": {
        "execution": {
          "iopub.execute_input": "2024-01-10T22:27:58.790659Z",
          "iopub.status.busy": "2024-01-10T22:27:58.789918Z",
          "iopub.status.idle": "2024-01-11T01:03:46.607209Z",
          "shell.execute_reply": "2024-01-11T01:03:46.606020Z"
        },
        "id": "a11dc2eb",
        "outputId": "176b4d93-657c-4724-e0f6-fa2ba2dc1cf5",
        "papermill": {
          "duration": 9360.35715,
          "end_time": "2024-01-11T01:03:46.609574",
          "exception": false,
          "start_time": "2024-01-10T22:27:46.252424",
          "status": "completed"
        },
        "tags": []
      },
      "outputs": [
        {
          "name": "stderr",
          "output_type": "stream",
          "text": [
            "100%|██████████| 262854/262854 [2:35:46<00:00, 28.12it/s]\n"
          ]
        },
        {
          "data": {
            "text/plain": [
              "0.0009489786558507569"
            ]
          },
          "execution_count": 36,
          "metadata": {},
          "output_type": "execute_result"
        }
      ],
      "source": [
        "PrecisionAllUserTFIDF(tfidf_datasets)"
      ]
    },
    {
      "cell_type": "code",
      "execution_count": null,
      "id": "478ae7bc",
      "metadata": {
        "execution": {
          "iopub.execute_input": "2024-01-11T01:04:25.056094Z",
          "iopub.status.busy": "2024-01-11T01:04:25.055701Z",
          "iopub.status.idle": "2024-01-11T02:12:56.173415Z",
          "shell.execute_reply": "2024-01-11T02:12:56.172452Z"
        },
        "id": "478ae7bc",
        "outputId": "ab77063d-343a-482c-98b3-b9fcb9ee3d26",
        "papermill": {
          "duration": 4130.184266,
          "end_time": "2024-01-11T02:12:56.175644",
          "exception": false,
          "start_time": "2024-01-11T01:04:05.991378",
          "status": "completed"
        },
        "tags": []
      },
      "outputs": [
        {
          "name": "stderr",
          "output_type": "stream",
          "text": [
            "  0%|          | 0/262854 [00:00<?, ?it/s]/tmp/ipykernel_25/2786642869.py:31: FutureWarning: Calling int on a single element Series is deprecated and will raise a TypeError in the future. Use int(ser.iloc[0]) instead\n",
            "  movie_id = int(self.datasets.rating_train[self.datasets.rating_train[\"userId\"] == userId][\"movieId\"])\n",
            "100%|██████████| 262854/262854 [1:08:31<00:00, 63.94it/s]"
          ]
        },
        {
          "name": "stdout",
          "output_type": "stream",
          "text": [
            "0.0008372021587223145\n"
          ]
        },
        {
          "name": "stderr",
          "output_type": "stream",
          "text": [
            "\n"
          ]
        }
      ],
      "source": [
        "rating_train_userId = set(tfidf_datasets.rating_train[\"userId\"])\n",
        "precision = 0\n",
        "No_user = 0\n",
        "for u in tqdm(list(rating_train_userId)):\n",
        "  prediction = kmeans_tfidf.recommend(u)\n",
        "  if prediction:\n",
        "    ground_truth = tfidf_datasets.rating_test[tfidf_datasets.rating_test[\"userId\"] == u][\"movieId\"].to_list()\n",
        "    precision += Precision(prediction, ground_truth)\n",
        "    No_user += 1\n",
        "\n",
        "print(precision/No_user)"
      ]
    }
  ],
  "metadata": {
    "colab": {
      "provenance": [],
      "toc_visible": true
    },
    "kaggle": {
      "accelerator": "gpu",
      "dataSources": [
        {
          "datasetId": 3405,
          "sourceId": 6663,
          "sourceType": "datasetVersion"
        }
      ],
      "isGpuEnabled": true,
      "isInternetEnabled": true,
      "language": "python",
      "sourceType": "notebook"
    },
    "kernelspec": {
      "display_name": "Python 3",
      "name": "python3"
    },
    "language_info": {
      "codemirror_mode": {
        "name": "ipython",
        "version": 3
      },
      "file_extension": ".py",
      "mimetype": "text/x-python",
      "name": "python",
      "nbconvert_exporter": "python",
      "pygments_lexer": "ipython3",
      "version": "3.10.12"
    },
    "papermill": {
      "default_parameters": {},
      "duration": 19347.214417,
      "end_time": "2024-01-11T02:13:21.456300",
      "environment_variables": {},
      "exception": null,
      "input_path": "__notebook__.ipynb",
      "output_path": "__notebook__.ipynb",
      "parameters": {},
      "start_time": "2024-01-10T20:50:54.241883",
      "version": "2.4.0"
    }
  },
  "nbformat": 4,
  "nbformat_minor": 5
}